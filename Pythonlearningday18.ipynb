{
 "cells": [
  {
   "cell_type": "code",
   "execution_count": 8,
   "id": "53d75092-900b-4f73-b774-8e11168c132e",
   "metadata": {},
   "outputs": [],
   "source": [
    "#Today\n",
    "# file handling and exception handling"
   ]
  },
  {
   "cell_type": "code",
   "execution_count": 7,
   "id": "79b109d1-493c-458d-8d30-972e524f04cb",
   "metadata": {},
   "outputs": [
    {
     "name": "stdout",
     "output_type": "stream",
     "text": [
      "hello\n"
     ]
    }
   ],
   "source": [
    "# mechanism => file/read yh write\n",
    "print(\"hello\")\n",
    "\n",
    "# data files => file handling"
   ]
  },
  {
   "cell_type": "code",
   "execution_count": 2,
   "id": "c42fbfe4-cba5-47ee-8ca2-72c6842e44c9",
   "metadata": {},
   "outputs": [],
   "source": [
    "# open\n",
    "# read/write\n",
    "# close the file\n",
    "# open(\"file\", <access mode>)\n",
    "# read, write, read-write, read-write with overwrite, append,"
   ]
  },
  {
   "cell_type": "code",
   "execution_count": 6,
   "id": "8bc562ae-3541-4b52-8969-0f3b8f460ced",
   "metadata": {},
   "outputs": [
    {
     "data": {
      "text/plain": [
       "<_io.TextIOWrapper name='a2.txt' mode='r' encoding='cp1252'>"
      ]
     },
     "execution_count": 6,
     "metadata": {},
     "output_type": "execute_result"
    }
   ],
   "source": [
    "open(\"a2.txt\",\"r\")"
   ]
  },
  {
   "cell_type": "code",
   "execution_count": 9,
   "id": "a5aad381-69c7-438f-9d79-f67cda2c9c49",
   "metadata": {},
   "outputs": [],
   "source": [
    "f=open(\"a2.txt\",\"w\")\n",
    "f.write(\"hello\")\n",
    "f.close()"
   ]
  },
  {
   "cell_type": "code",
   "execution_count": 12,
   "id": "f256f8b1-b377-4cf5-b1a7-2428ed95f1ad",
   "metadata": {},
   "outputs": [
    {
     "name": "stdout",
     "output_type": "stream",
     "text": [
      "jaipur\n"
     ]
    }
   ],
   "source": [
    "f=open(\"a2.txt\",\"r+\")\n",
    "out=f.read()\n",
    "f.write(\"jaipur\")\n",
    "f.close()\n",
    "\n",
    "print(out)"
   ]
  },
  {
   "cell_type": "code",
   "execution_count": 17,
   "id": "379dc524-d6ca-46cb-ac3f-dc42db4198a0",
   "metadata": {},
   "outputs": [
    {
     "name": "stdout",
     "output_type": "stream",
     "text": [
      " himachal\n"
     ]
    }
   ],
   "source": [
    "f=open(\"a2.txt\",\"r+\")\n",
    "f.write(\"jaipur\")\n",
    "out=f.read()\n",
    "f.close()\n",
    "\n",
    "print(out)"
   ]
  },
  {
   "cell_type": "code",
   "execution_count": 24,
   "id": "63757278-3461-47e6-8bdd-668eb2002626",
   "metadata": {},
   "outputs": [
    {
     "name": "stdout",
     "output_type": "stream",
     "text": [
      "\n"
     ]
    }
   ],
   "source": [
    "f=open(\"a2.txt\",\"w+\")\n",
    "f.write(\"hello\")\n",
    "out=f.read()\n",
    "f.close()\n",
    "\n",
    "print(out)"
   ]
  },
  {
   "cell_type": "code",
   "execution_count": 25,
   "id": "184ea538-9b05-4130-8a82-06d7de1488e2",
   "metadata": {},
   "outputs": [
    {
     "name": "stdout",
     "output_type": "stream",
     "text": [
      "1st position: 0\n",
      "2nd position: 5\n",
      "3rd position: 5\n",
      "\n"
     ]
    }
   ],
   "source": [
    "f=open(\"a2.txt\",\"w+\")\n",
    "print(\"1st position:\",f.tell() )\n",
    "f.write(\"hello\")\n",
    "print(\"2nd position:\",f.tell() )\n",
    "out=f.read()\n",
    "print(\"3rd position:\",f.tell() )\n",
    "f.close()\n",
    "\n",
    "print(out)"
   ]
  },
  {
   "cell_type": "code",
   "execution_count": 26,
   "id": "c9d4da44-c221-4478-afc5-8d40264c76a0",
   "metadata": {},
   "outputs": [
    {
     "name": "stdout",
     "output_type": "stream",
     "text": [
      "1st position: 0\n",
      "2nd position: 5\n",
      "\n"
     ]
    }
   ],
   "source": [
    "f=open(\"a2.txt\",\"w+\")\n",
    "out=f.read()\n",
    "print(\"1st position:\",f.tell() )\n",
    "\n",
    "f.write(\"hello\")\n",
    "print(\"2nd position:\",f.tell() )\n",
    "\n",
    "f.close()\n",
    "\n",
    "print(out)"
   ]
  },
  {
   "cell_type": "code",
   "execution_count": 34,
   "id": "5c223c60-aaa2-4e1d-b994-7e43dd08e73d",
   "metadata": {},
   "outputs": [
    {
     "name": "stdout",
     "output_type": "stream",
     "text": [
      "1st position: 0\n",
      "2nd position: 16\n",
      "3rd position: 2\n",
      "4th position read=>: 16\n",
      "jasthan jaipur\n"
     ]
    }
   ],
   "source": [
    "f=open(\"a2.txt\",\"w+\")\n",
    "out=f.read()\n",
    "print(\"1st position:\",f.tell() )\n",
    "\n",
    "f.write(\"rajasthan jaipur\")\n",
    "print(\"2nd position:\",f.tell() )\n",
    "f.seek(2)\n",
    "print(\"3rd position:\",f.tell() )\n",
    "out=f.read()\n",
    "print(\"4th position read=>:\",f.tell() )\n",
    "f.close()\n",
    "\n",
    "print(out)"
   ]
  },
  {
   "cell_type": "code",
   "execution_count": 38,
   "id": "32a085b1-d6f3-4da7-a103-96bba0ff1cec",
   "metadata": {},
   "outputs": [],
   "source": [
    "f=open(\"a2.txt\",\"a\")\n",
    "f.write(\"##\")\n",
    "#f.read() not readable\n",
    "f.close()\n",
    "# old syntax"
   ]
  },
  {
   "cell_type": "code",
   "execution_count": 40,
   "id": "cf1ec156-7a90-4891-8a04-a696d8828422",
   "metadata": {},
   "outputs": [],
   "source": [
    "with open(\"a2.txt\",\"a\") as f:\n",
    "    f.write(\"##\")\n",
    "# new syntax"
   ]
  },
  {
   "cell_type": "code",
   "execution_count": 42,
   "id": "6ac8bda9-cdb8-44e1-ac59-b2910604437e",
   "metadata": {},
   "outputs": [
    {
     "name": "stdout",
     "output_type": "stream",
     "text": [
      "krishna\n",
      "harshit\n",
      "himanshu\n"
     ]
    }
   ],
   "source": [
    "with open(\"a2.txt\",\"r\") as f:\n",
    "    print(f.read() )"
   ]
  },
  {
   "cell_type": "code",
   "execution_count": 43,
   "id": "2c6c4955-c5bf-48f9-9d00-7a129531ee5d",
   "metadata": {},
   "outputs": [
    {
     "name": "stdout",
     "output_type": "stream",
     "text": [
      "krishna\n",
      "\n"
     ]
    }
   ],
   "source": [
    "with open(\"a2.txt\",\"r\") as f:\n",
    "    print(f.readline() )"
   ]
  },
  {
   "cell_type": "code",
   "execution_count": 44,
   "id": "3ed5ddf4-959a-413c-b2ab-b41d415fd0e5",
   "metadata": {},
   "outputs": [
    {
     "name": "stdout",
     "output_type": "stream",
     "text": [
      "krishna\n",
      "\n",
      "harshit\n",
      "\n"
     ]
    }
   ],
   "source": [
    "with open(\"a2.txt\",\"r\") as f:\n",
    "    print(f.readline() )\n",
    "    print(f.readline() )"
   ]
  },
  {
   "cell_type": "code",
   "execution_count": 45,
   "id": "33483044-78d0-425e-9257-c5cdac8a2e6e",
   "metadata": {},
   "outputs": [
    {
     "name": "stdout",
     "output_type": "stream",
     "text": [
      "krishna\n",
      "\n",
      "harshit\n",
      "\n",
      "himanshu\n"
     ]
    }
   ],
   "source": [
    "with open(\"a2.txt\",\"r\") as f:\n",
    "    for line in f:\n",
    "        print(line)"
   ]
  },
  {
   "cell_type": "code",
   "execution_count": 55,
   "id": "cc7f127b-18e9-40ba-8548-3833501f0049",
   "metadata": {},
   "outputs": [
    {
     "name": "stdout",
     "output_type": "stream",
     "text": [
      "['krishna\\n', 'harshit\\n', 'himanshu']\n"
     ]
    }
   ],
   "source": [
    "with open(\"a2.txt\",\"r\") as f:\n",
    "   print( f.readlines() )\n",
    "# data engineering"
   ]
  },
  {
   "cell_type": "code",
   "execution_count": 49,
   "id": "5a24194d-42d3-4c60-9d81-6e4d215e8b19",
   "metadata": {},
   "outputs": [
    {
     "data": {
      "text/plain": [
       "'hey'"
      ]
     },
     "execution_count": 49,
     "metadata": {},
     "output_type": "execute_result"
    }
   ],
   "source": [
    "\" hey     \".strip()"
   ]
  },
  {
   "cell_type": "code",
   "execution_count": 50,
   "id": "2f9e9427-069a-4fe5-a738-6e1faad3d942",
   "metadata": {},
   "outputs": [
    {
     "name": "stdout",
     "output_type": "stream",
     "text": [
      "krishna\n",
      "harshit\n",
      "himanshu\n"
     ]
    }
   ],
   "source": [
    "with open(\"a2.txt\",\"r\") as f:\n",
    "   for line in f.readlines():\n",
    "       print(line.strip() )"
   ]
  },
  {
   "cell_type": "code",
   "execution_count": null,
   "id": "528878fe-3cde-487c-9de5-828c602886ab",
   "metadata": {},
   "outputs": [],
   "source": []
  }
 ],
 "metadata": {
  "kernelspec": {
   "display_name": "Python 3 (ipykernel)",
   "language": "python",
   "name": "python3"
  },
  "language_info": {
   "codemirror_mode": {
    "name": "ipython",
    "version": 3
   },
   "file_extension": ".py",
   "mimetype": "text/x-python",
   "name": "python",
   "nbconvert_exporter": "python",
   "pygments_lexer": "ipython3",
   "version": "3.10.11"
  }
 },
 "nbformat": 4,
 "nbformat_minor": 5
}
